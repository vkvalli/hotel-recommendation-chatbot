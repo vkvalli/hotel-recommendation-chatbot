{
 "cells": [
  {
   "cell_type": "code",
   "execution_count": 1,
   "metadata": {},
   "outputs": [],
   "source": [
    "import pandas as pd"
   ]
  },
  {
   "attachments": {},
   "cell_type": "markdown",
   "metadata": {},
   "source": [
    "Load the data and build a recommendation system"
   ]
  },
  {
   "cell_type": "code",
   "execution_count": 2,
   "metadata": {},
   "outputs": [],
   "source": [
    "def load_data(city):\n",
    "    hotels_file = rf\"C:\\Users\\KIIT\\OneDrive\\Desktop\\Personal\\Projects\\Hotel Recommendation Chatbot\\dataset\\HotelListIn{city}__en2019100120191005.csv\"\n",
    "    reviews_file = rf\"C:\\Users\\KIIT\\OneDrive\\Desktop\\Personal\\Projects\\Hotel Recommendation Chatbot\\dataset\\hotelReviewsIn{city}__en2019100120191005.csv\"\n",
    "\n",
    "    try:\n",
    "        hotels_df = pd.read_csv(hotels_file, sep=',')\n",
    "        reviews_df = pd.read_csv(reviews_file, sep=',')\n",
    "    except FileNotFoundError:\n",
    "        return None\n",
    "\n",
    "    hotel_reviews = {}\n",
    "\n",
    "    for index, row in reviews_df.iterrows():\n",
    "        hotel_name = row['hotelName']\n",
    "        review = row['review_body']\n",
    "\n",
    "        if hotel_name not in hotel_reviews:\n",
    "            hotel_reviews[hotel_name] = []\n",
    "\n",
    "        hotel_reviews[hotel_name].append(review)\n",
    "\n",
    "    # Select the top 10 hotels based on the number of reviews\n",
    "    sorted_hotels = sorted(hotel_reviews.items(), key=lambda x: len(x[1]), reverse=True)\n",
    "    top_10_hotels = dict(sorted_hotels[:10])\n",
    "\n",
    "    return top_10_hotels"
   ]
  },
  {
   "attachments": {},
   "cell_type": "markdown",
   "metadata": {},
   "source": [
    "Render the data"
   ]
  },
  {
   "cell_type": "code",
   "execution_count": 3,
   "metadata": {},
   "outputs": [],
   "source": [
    "def process_city(city):\n",
    "    # Load the data and get the top 10 hotels with maximum reviews\n",
    "    top_10_hotels = load_data(city)\n",
    "\n",
    "    if top_10_hotels is None:\n",
    "        return \"City not found.\"\n",
    "\n",
    "    # Create a DataFrame with hotel names and reviews\n",
    "    df = pd.DataFrame({'Hotel Name': list(top_10_hotels.keys()), 'Reviews': list(top_10_hotels.values())})\n",
    "    \n",
    "    return df\n",
    "\n",
    "def get_city():\n",
    "    city = input(\"Enter the city: \")\n",
    "    return city"
   ]
  },
  {
   "attachments": {},
   "cell_type": "markdown",
   "metadata": {},
   "source": [
    "Implement the chatbot interface"
   ]
  },
  {
   "cell_type": "code",
   "execution_count": 5,
   "metadata": {},
   "outputs": [
    {
     "name": "stdout",
     "output_type": "stream",
     "text": [
      "Welcome to the Hotel Review Chatbot!\n",
      "City set to: bombay\n",
      "                                          Hotel Name   \n",
      "0  2    Petshari Lodge\\nName: hotel_name, dtype: ...  \\\n",
      "1  0    Heaven's Rest B&B\\nName: hotel_name, dtyp...   \n",
      "\n",
      "                                             Reviews  \n",
      "0  [Sharon and Peter were so wonderful and accomo...  \n",
      "1  [Lovely quiet home on a beautiful piece of lan...  \n",
      "Thank you for using the Hotel Review Chatbot! Goodbye!\n"
     ]
    }
   ],
   "source": [
    "\n",
    "# Chatbot welcome message\n",
    "print(\"Welcome to the Hotel Review Chatbot!\")\n",
    "\n",
    "# Main chatbot loop\n",
    "while True:\n",
    "    user_input = input(\"Enter a command:  \\nAvailable commands:\\n1. set city: Set the city for hotel reviews\\n2. get reviews: Load and display the top 10 hotels with maximum reviews\\n3. exit: Quit the chatbot\")\n",
    "\n",
    "    if user_input == \"set city\":\n",
    "        city = get_city()\n",
    "        print(f\"City set to: {city}\")\n",
    "\n",
    "    elif user_input == \"get reviews\":\n",
    "        try:\n",
    "            result = process_city(city)\n",
    "            if isinstance(result, pd.DataFrame):\n",
    "                print(result)\n",
    "            else:\n",
    "                print(result)\n",
    "        except NameError:\n",
    "            print(\"Please set the city first using the 'set city' command.\")\n",
    "\n",
    "    elif user_input == \"exit\":\n",
    "        print(\"Thank you for using the Hotel Review Chatbot! Goodbye!\")\n",
    "        break\n",
    "\n",
    "    else:\n",
    "        print(\"Invalid command. Please try again.\")"
   ]
  }
 ],
 "metadata": {
  "kernelspec": {
   "display_name": "Python 3",
   "language": "python",
   "name": "python3"
  },
  "language_info": {
   "codemirror_mode": {
    "name": "ipython",
    "version": 3
   },
   "file_extension": ".py",
   "mimetype": "text/x-python",
   "name": "python",
   "nbconvert_exporter": "python",
   "pygments_lexer": "ipython3",
   "version": "3.9.13"
  },
  "orig_nbformat": 4
 },
 "nbformat": 4,
 "nbformat_minor": 2
}
